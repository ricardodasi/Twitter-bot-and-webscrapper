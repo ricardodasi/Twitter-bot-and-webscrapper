{
 "cells": [
  {
   "cell_type": "code",
   "execution_count": 40,
   "metadata": {},
   "outputs": [],
   "source": [
    "#!/usr/bin/env python3\n",
    "#Python twitter bot script test\n",
    "\n",
    "\n",
    "#load packages\n",
    "\n",
    "import json\n",
    "import tweepy\n",
    "import pymongo\n",
    "import requests\n",
    "import shutil\n",
    "import os\n",
    "\n",
    "\n",
    "\n",
    "from mongoengine import *\n",
    "from pymongo import MongoClient\n",
    "from PIL import Image\n",
    "from langdetect import detect\n",
    "\n",
    "#establishing data base connection\n",
    "\n",
    "\n",
    "client = MongoClient('localhost', 27017)\n",
    "\n",
    "db = client.magic_cards\n",
    "\n",
    "cards_collection = db.cards_collection\n",
    "\n"
   ]
  },
  {
   "cell_type": "code",
   "execution_count": 3,
   "metadata": {},
   "outputs": [
    {
     "name": "stdout",
     "output_type": "stream",
     "text": [
      "Authentication OK\n"
     ]
    }
   ],
   "source": [
    "#trying credentials\n",
    "\n",
    "\n",
    "# Authenticate to Twitter\n",
    "\n",
    "#we create the link to the app in our twitter developer account to have access to the twitter API\n",
    "\n",
    "#create OAuth:\n",
    "\n",
    "auth = tweepy.OAuthHandler(\"mcEYPClyVOaoadcYtNQdFTHGr\", # \"CONSUMER_KEY\"\n",
    "    \"U2dB7xoEuTH752wNUcFDuyAXtwsWl0Yy4LFdgsBIs8ZixYIwyI\") # \"CONSUMER_SECRET\"\n",
    "\n",
    "\n",
    "#The API class:\n",
    "\n",
    "auth.set_access_token(\"1184771638874836993-wKQFq4A7DOXpnIRqRWSitzJKYmJBOS\", # \"ACCESS_TOKEN\"\n",
    "    \"2GGAEo7xtHnrLHnU5az7xMXHEOkrh5clTlbjCcRoNWYe7\") #\"ACCESS_TOKEN_SECRET\"\n",
    "\n",
    "api = tweepy.API(auth)\n",
    "\n",
    "try:\n",
    "    api.verify_credentials()\n",
    "    print(\"Authentication OK\")\n",
    "except:\n",
    "    print(\"Error during authentication\")\n",
    "    \n",
    "    "
   ]
  },
  {
   "cell_type": "code",
   "execution_count": 3,
   "metadata": {
    "scrolled": true
   },
   "outputs": [],
   "source": [
    "# Create a tweet\n",
    "\n",
    "\n",
    "#retrieve info for a random card\n",
    "#we create it as a list to compensate for the not suscritable cursor object issue that comes with the aggregate function\n",
    "\n",
    "random_card = list(cards_collection.aggregate([{'$sample': {'size':1}} ]))\n",
    "\n",
    "\n",
    "#getting tweet image and saving it locally\n",
    "\n",
    "#cleaning line for images\n",
    "\n",
    "url = \"\" #empty\n",
    "\n",
    "url = random_card[0]['image']\n",
    "\n",
    "response = requests.get(url, stream=True)\n",
    "\n",
    "with open('img.png', 'wb') as out_file:\n",
    "    shutil.copyfileobj(response.raw, out_file)\n",
    "del response\n",
    "\n",
    "#resizing image for twitter format \n",
    "\n",
    "img = Image.open(r'C:\\Users\\riqui\\Desktop\\Python projects\\Web scrapper\\img.png')\n",
    "img.thumbnail((512,1025), Image.ANTIALIAS)\n",
    "img.save(r'C:\\Users\\riqui\\Desktop\\Python projects\\Web scrapper\\img.png', 'png', quality=88)\n",
    "\n",
    "\n",
    "#creating tweet text :\n",
    "\n",
    "card_name = random_card[0]['title'].replace(' ','').replace(',','').replace(\"'s\",\"\")\n",
    "\n",
    "edition = random_card[0]['edition'].replace('#','Nº ')\n",
    "\n",
    "card_type = random_card[0]['type of card']\n",
    "\n",
    "hashtags = '#MTG #MagictheGathering #MTGArena #EDH'\n",
    "\n",
    "\n",
    "#uploading tweet:\n",
    "\n",
    "\n",
    "api.update_with_media(r'C:\\Users\\riqui\\Desktop\\Python projects\\Web scrapper\\img.png', \n",
    "                        status='Card name: #{}\\nCard type: {}\\nEdition: {}\\n{}'.format(card_name,\n",
    "                                                                                        card_type,                   \n",
    "                                                                                        edition,\n",
    "                                                                                        hashtags))\n",
    "\n",
    "#erase the image\n",
    "\n",
    "os.remove(r'C:\\Users\\riqui\\Desktop\\Python projects\\Web scrapper\\img.png')"
   ]
  },
  {
   "cell_type": "code",
   "execution_count": 69,
   "metadata": {},
   "outputs": [
    {
     "name": "stdout",
     "output_type": "stream",
     "text": [
      "Followed everyone that is following \n"
     ]
    }
   ],
   "source": [
    "#behaviour part of the script for the bot\n",
    "\n",
    "\n",
    "#Follow requests for people that follow the bot\n",
    "\n",
    "\n",
    "for follower in tweepy.Cursor(api.followers).items(): \n",
    "    try:\n",
    "        follower.follow()\n",
    "    except:\n",
    "        pass \n",
    "    \n",
    "    \n",
    "print (\"Followed everyone that is following \")\n"
   ]
  },
  {
   "cell_type": "code",
   "execution_count": 70,
   "metadata": {},
   "outputs": [
    {
     "name": "stdout",
     "output_type": "stream",
     "text": [
      "[{'code': 327, 'message': 'You have already retweeted this Tweet.'}]\n",
      "Retweeted the tweet\n",
      "Retweeted the tweet\n",
      "[{'code': 327, 'message': 'You have already retweeted this Tweet.'}]\n",
      "Status(_api=<tweepy.api.API object at 0x0000019F8B431BE0>, _json={'created_at': 'Mon Oct 28 15:34:29 +0000 2019', 'id': 1188841474588397568, 'id_str': '1188841474588397568', 'text': 'RT @DanielaMenjiv18: Asi van las promesas del nefasto gobierno de El Salvador:\\n❌No hay CICIES\\n❌No existe 20 obras x día\\n❌Falso puente de 72…', 'truncated': False, 'entities': {'hashtags': [], 'symbols': [], 'user_mentions': [{'screen_name': 'DanielaMenjiv18', 'name': 'Daniela Menjivar', 'id': 956205424973201409, 'id_str': '956205424973201409', 'indices': [3, 19]}], 'urls': []}, 'metadata': {'iso_language_code': 'es', 'result_type': 'recent'}, 'source': '<a href=\"http://twitter.com/download/android\" rel=\"nofollow\">Twitter for Android</a>', 'in_reply_to_status_id': None, 'in_reply_to_status_id_str': None, 'in_reply_to_user_id': None, 'in_reply_to_user_id_str': None, 'in_reply_to_screen_name': None, 'user': {'id': 1130663399879262208, 'id_str': '1130663399879262208', 'name': 'Nacho Jimenez', 'screen_name': 'NachoJugueton', 'location': '', 'description': 'hay que escuchar el doble de lo que hablamos', 'url': None, 'entities': {'description': {'urls': []}}, 'protected': False, 'followers_count': 20, 'friends_count': 90, 'listed_count': 0, 'created_at': 'Tue May 21 02:35:36 +0000 2019', 'favourites_count': 228, 'utc_offset': None, 'time_zone': None, 'geo_enabled': False, 'verified': False, 'statuses_count': 278, 'lang': None, 'contributors_enabled': False, 'is_translator': False, 'is_translation_enabled': False, 'profile_background_color': 'F5F8FA', 'profile_background_image_url': None, 'profile_background_image_url_https': None, 'profile_background_tile': False, 'profile_image_url': 'http://pbs.twimg.com/profile_images/1152091480883965952/9_GjT1EJ_normal.jpg', 'profile_image_url_https': 'https://pbs.twimg.com/profile_images/1152091480883965952/9_GjT1EJ_normal.jpg', 'profile_banner_url': 'https://pbs.twimg.com/profile_banners/1130663399879262208/1558406729', 'profile_link_color': '1DA1F2', 'profile_sidebar_border_color': 'C0DEED', 'profile_sidebar_fill_color': 'DDEEF6', 'profile_text_color': '333333', 'profile_use_background_image': True, 'has_extended_profile': False, 'default_profile': True, 'default_profile_image': False, 'following': False, 'follow_request_sent': False, 'notifications': False, 'translator_type': 'none'}, 'geo': None, 'coordinates': None, 'place': None, 'contributors': None, 'retweeted_status': {'created_at': 'Sun Oct 27 05:13:41 +0000 2019', 'id': 1188322855114756097, 'id_str': '1188322855114756097', 'text': 'Asi van las promesas del nefasto gobierno de El Salvador:\\n❌No hay CICIES\\n❌No existe 20 obras x día\\n❌Falso puente de… https://t.co/tRQVoqUm4N', 'truncated': True, 'entities': {'hashtags': [], 'symbols': [], 'user_mentions': [], 'urls': [{'url': 'https://t.co/tRQVoqUm4N', 'expanded_url': 'https://twitter.com/i/web/status/1188322855114756097', 'display_url': 'twitter.com/i/web/status/1…', 'indices': [117, 140]}]}, 'metadata': {'iso_language_code': 'es', 'result_type': 'recent'}, 'source': '<a href=\"http://twitter.com/download/android\" rel=\"nofollow\">Twitter for Android</a>', 'in_reply_to_status_id': None, 'in_reply_to_status_id_str': None, 'in_reply_to_user_id': None, 'in_reply_to_user_id_str': None, 'in_reply_to_screen_name': None, 'user': {'id': 956205424973201409, 'id_str': '956205424973201409', 'name': 'Daniela Menjivar', 'screen_name': 'DanielaMenjiv18', 'location': '', 'description': 'Si no sabe no opine 👈', 'url': None, 'entities': {'description': {'urls': []}}, 'protected': False, 'followers_count': 508, 'friends_count': 576, 'listed_count': 1, 'created_at': 'Wed Jan 24 16:41:53 +0000 2018', 'favourites_count': 14366, 'utc_offset': None, 'time_zone': None, 'geo_enabled': False, 'verified': False, 'statuses_count': 9380, 'lang': None, 'contributors_enabled': False, 'is_translator': False, 'is_translation_enabled': False, 'profile_background_color': 'F5F8FA', 'profile_background_image_url': None, 'profile_background_image_url_https': None, 'profile_background_tile': False, 'profile_image_url': 'http://pbs.twimg.com/profile_images/1103864727455723520/fTDwlCZI_normal.jpg', 'profile_image_url_https': 'https://pbs.twimg.com/profile_images/1103864727455723520/fTDwlCZI_normal.jpg', 'profile_banner_url': 'https://pbs.twimg.com/profile_banners/956205424973201409/1516812808', 'profile_link_color': '1DA1F2', 'profile_sidebar_border_color': 'C0DEED', 'profile_sidebar_fill_color': 'DDEEF6', 'profile_text_color': '333333', 'profile_use_background_image': True, 'has_extended_profile': True, 'default_profile': True, 'default_profile_image': False, 'following': False, 'follow_request_sent': False, 'notifications': False, 'translator_type': 'none'}, 'geo': None, 'coordinates': None, 'place': None, 'contributors': None, 'is_quote_status': False, 'retweet_count': 209, 'favorite_count': 479, 'favorited': False, 'retweeted': False, 'lang': 'es'}, 'is_quote_status': False, 'retweet_count': 209, 'favorite_count': 0, 'favorited': False, 'retweeted': False, 'lang': 'es'}, created_at=datetime.datetime(2019, 10, 28, 15, 34, 29), id=1188841474588397568, id_str='1188841474588397568', text='RT @DanielaMenjiv18: Asi van las promesas del nefasto gobierno de El Salvador:\\n❌No hay CICIES\\n❌No existe 20 obras x día\\n❌Falso puente de 72…', truncated=False, entities={'hashtags': [], 'symbols': [], 'user_mentions': [{'screen_name': 'DanielaMenjiv18', 'name': 'Daniela Menjivar', 'id': 956205424973201409, 'id_str': '956205424973201409', 'indices': [3, 19]}], 'urls': []}, metadata={'iso_language_code': 'es', 'result_type': 'recent'}, source='Twitter for Android', source_url='http://twitter.com/download/android', in_reply_to_status_id=None, in_reply_to_status_id_str=None, in_reply_to_user_id=None, in_reply_to_user_id_str=None, in_reply_to_screen_name=None, author=User(_api=<tweepy.api.API object at 0x0000019F8B431BE0>, _json={'id': 1130663399879262208, 'id_str': '1130663399879262208', 'name': 'Nacho Jimenez', 'screen_name': 'NachoJugueton', 'location': '', 'description': 'hay que escuchar el doble de lo que hablamos', 'url': None, 'entities': {'description': {'urls': []}}, 'protected': False, 'followers_count': 20, 'friends_count': 90, 'listed_count': 0, 'created_at': 'Tue May 21 02:35:36 +0000 2019', 'favourites_count': 228, 'utc_offset': None, 'time_zone': None, 'geo_enabled': False, 'verified': False, 'statuses_count': 278, 'lang': None, 'contributors_enabled': False, 'is_translator': False, 'is_translation_enabled': False, 'profile_background_color': 'F5F8FA', 'profile_background_image_url': None, 'profile_background_image_url_https': None, 'profile_background_tile': False, 'profile_image_url': 'http://pbs.twimg.com/profile_images/1152091480883965952/9_GjT1EJ_normal.jpg', 'profile_image_url_https': 'https://pbs.twimg.com/profile_images/1152091480883965952/9_GjT1EJ_normal.jpg', 'profile_banner_url': 'https://pbs.twimg.com/profile_banners/1130663399879262208/1558406729', 'profile_link_color': '1DA1F2', 'profile_sidebar_border_color': 'C0DEED', 'profile_sidebar_fill_color': 'DDEEF6', 'profile_text_color': '333333', 'profile_use_background_image': True, 'has_extended_profile': False, 'default_profile': True, 'default_profile_image': False, 'following': False, 'follow_request_sent': False, 'notifications': False, 'translator_type': 'none'}, id=1130663399879262208, id_str='1130663399879262208', name='Nacho Jimenez', screen_name='NachoJugueton', location='', description='hay que escuchar el doble de lo que hablamos', url=None, entities={'description': {'urls': []}}, protected=False, followers_count=20, friends_count=90, listed_count=0, created_at=datetime.datetime(2019, 5, 21, 2, 35, 36), favourites_count=228, utc_offset=None, time_zone=None, geo_enabled=False, verified=False, statuses_count=278, lang=None, contributors_enabled=False, is_translator=False, is_translation_enabled=False, profile_background_color='F5F8FA', profile_background_image_url=None, profile_background_image_url_https=None, profile_background_tile=False, profile_image_url='http://pbs.twimg.com/profile_images/1152091480883965952/9_GjT1EJ_normal.jpg', profile_image_url_https='https://pbs.twimg.com/profile_images/1152091480883965952/9_GjT1EJ_normal.jpg', profile_banner_url='https://pbs.twimg.com/profile_banners/1130663399879262208/1558406729', profile_link_color='1DA1F2', profile_sidebar_border_color='C0DEED', profile_sidebar_fill_color='DDEEF6', profile_text_color='333333', profile_use_background_image=True, has_extended_profile=False, default_profile=True, default_profile_image=False, following=False, follow_request_sent=False, notifications=False, translator_type='none'), user=User(_api=<tweepy.api.API object at 0x0000019F8B431BE0>, _json={'id': 1130663399879262208, 'id_str': '1130663399879262208', 'name': 'Nacho Jimenez', 'screen_name': 'NachoJugueton', 'location': '', 'description': 'hay que escuchar el doble de lo que hablamos', 'url': None, 'entities': {'description': {'urls': []}}, 'protected': False, 'followers_count': 20, 'friends_count': 90, 'listed_count': 0, 'created_at': 'Tue May 21 02:35:36 +0000 2019', 'favourites_count': 228, 'utc_offset': None, 'time_zone': None, 'geo_enabled': False, 'verified': False, 'statuses_count': 278, 'lang': None, 'contributors_enabled': False, 'is_translator': False, 'is_translation_enabled': False, 'profile_background_color': 'F5F8FA', 'profile_background_image_url': None, 'profile_background_image_url_https': None, 'profile_background_tile': False, 'profile_image_url': 'http://pbs.twimg.com/profile_images/1152091480883965952/9_GjT1EJ_normal.jpg', 'profile_image_url_https': 'https://pbs.twimg.com/profile_images/1152091480883965952/9_GjT1EJ_normal.jpg', 'profile_banner_url': 'https://pbs.twimg.com/profile_banners/1130663399879262208/1558406729', 'profile_link_color': '1DA1F2', 'profile_sidebar_border_color': 'C0DEED', 'profile_sidebar_fill_color': 'DDEEF6', 'profile_text_color': '333333', 'profile_use_background_image': True, 'has_extended_profile': False, 'default_profile': True, 'default_profile_image': False, 'following': False, 'follow_request_sent': False, 'notifications': False, 'translator_type': 'none'}, id=1130663399879262208, id_str='1130663399879262208', name='Nacho Jimenez', screen_name='NachoJugueton', location='', description='hay que escuchar el doble de lo que hablamos', url=None, entities={'description': {'urls': []}}, protected=False, followers_count=20, friends_count=90, listed_count=0, created_at=datetime.datetime(2019, 5, 21, 2, 35, 36), favourites_count=228, utc_offset=None, time_zone=None, geo_enabled=False, verified=False, statuses_count=278, lang=None, contributors_enabled=False, is_translator=False, is_translation_enabled=False, profile_background_color='F5F8FA', profile_background_image_url=None, profile_background_image_url_https=None, profile_background_tile=False, profile_image_url='http://pbs.twimg.com/profile_images/1152091480883965952/9_GjT1EJ_normal.jpg', profile_image_url_https='https://pbs.twimg.com/profile_images/1152091480883965952/9_GjT1EJ_normal.jpg', profile_banner_url='https://pbs.twimg.com/profile_banners/1130663399879262208/1558406729', profile_link_color='1DA1F2', profile_sidebar_border_color='C0DEED', profile_sidebar_fill_color='DDEEF6', profile_text_color='333333', profile_use_background_image=True, has_extended_profile=False, default_profile=True, default_profile_image=False, following=False, follow_request_sent=False, notifications=False, translator_type='none'), geo=None, coordinates=None, place=None, contributors=None, retweeted_status=Status(_api=<tweepy.api.API object at 0x0000019F8B431BE0>, _json={'created_at': 'Sun Oct 27 05:13:41 +0000 2019', 'id': 1188322855114756097, 'id_str': '1188322855114756097', 'text': 'Asi van las promesas del nefasto gobierno de El Salvador:\\n❌No hay CICIES\\n❌No existe 20 obras x día\\n❌Falso puente de… https://t.co/tRQVoqUm4N', 'truncated': True, 'entities': {'hashtags': [], 'symbols': [], 'user_mentions': [], 'urls': [{'url': 'https://t.co/tRQVoqUm4N', 'expanded_url': 'https://twitter.com/i/web/status/1188322855114756097', 'display_url': 'twitter.com/i/web/status/1…', 'indices': [117, 140]}]}, 'metadata': {'iso_language_code': 'es', 'result_type': 'recent'}, 'source': '<a href=\"http://twitter.com/download/android\" rel=\"nofollow\">Twitter for Android</a>', 'in_reply_to_status_id': None, 'in_reply_to_status_id_str': None, 'in_reply_to_user_id': None, 'in_reply_to_user_id_str': None, 'in_reply_to_screen_name': None, 'user': {'id': 956205424973201409, 'id_str': '956205424973201409', 'name': 'Daniela Menjivar', 'screen_name': 'DanielaMenjiv18', 'location': '', 'description': 'Si no sabe no opine 👈', 'url': None, 'entities': {'description': {'urls': []}}, 'protected': False, 'followers_count': 508, 'friends_count': 576, 'listed_count': 1, 'created_at': 'Wed Jan 24 16:41:53 +0000 2018', 'favourites_count': 14366, 'utc_offset': None, 'time_zone': None, 'geo_enabled': False, 'verified': False, 'statuses_count': 9380, 'lang': None, 'contributors_enabled': False, 'is_translator': False, 'is_translation_enabled': False, 'profile_background_color': 'F5F8FA', 'profile_background_image_url': None, 'profile_background_image_url_https': None, 'profile_background_tile': False, 'profile_image_url': 'http://pbs.twimg.com/profile_images/1103864727455723520/fTDwlCZI_normal.jpg', 'profile_image_url_https': 'https://pbs.twimg.com/profile_images/1103864727455723520/fTDwlCZI_normal.jpg', 'profile_banner_url': 'https://pbs.twimg.com/profile_banners/956205424973201409/1516812808', 'profile_link_color': '1DA1F2', 'profile_sidebar_border_color': 'C0DEED', 'profile_sidebar_fill_color': 'DDEEF6', 'profile_text_color': '333333', 'profile_use_background_image': True, 'has_extended_profile': True, 'default_profile': True, 'default_profile_image': False, 'following': False, 'follow_request_sent': False, 'notifications': False, 'translator_type': 'none'}, 'geo': None, 'coordinates': None, 'place': None, 'contributors': None, 'is_quote_status': False, 'retweet_count': 209, 'favorite_count': 479, 'favorited': False, 'retweeted': False, 'lang': 'es'}, created_at=datetime.datetime(2019, 10, 27, 5, 13, 41), id=1188322855114756097, id_str='1188322855114756097', text='Asi van las promesas del nefasto gobierno de El Salvador:\\n❌No hay CICIES\\n❌No existe 20 obras x día\\n❌Falso puente de… https://t.co/tRQVoqUm4N', truncated=True, entities={'hashtags': [], 'symbols': [], 'user_mentions': [], 'urls': [{'url': 'https://t.co/tRQVoqUm4N', 'expanded_url': 'https://twitter.com/i/web/status/1188322855114756097', 'display_url': 'twitter.com/i/web/status/1…', 'indices': [117, 140]}]}, metadata={'iso_language_code': 'es', 'result_type': 'recent'}, source='Twitter for Android', source_url='http://twitter.com/download/android', in_reply_to_status_id=None, in_reply_to_status_id_str=None, in_reply_to_user_id=None, in_reply_to_user_id_str=None, in_reply_to_screen_name=None, author=User(_api=<tweepy.api.API object at 0x0000019F8B431BE0>, _json={'id': 956205424973201409, 'id_str': '956205424973201409', 'name': 'Daniela Menjivar', 'screen_name': 'DanielaMenjiv18', 'location': '', 'description': 'Si no sabe no opine 👈', 'url': None, 'entities': {'description': {'urls': []}}, 'protected': False, 'followers_count': 508, 'friends_count': 576, 'listed_count': 1, 'created_at': 'Wed Jan 24 16:41:53 +0000 2018', 'favourites_count': 14366, 'utc_offset': None, 'time_zone': None, 'geo_enabled': False, 'verified': False, 'statuses_count': 9380, 'lang': None, 'contributors_enabled': False, 'is_translator': False, 'is_translation_enabled': False, 'profile_background_color': 'F5F8FA', 'profile_background_image_url': None, 'profile_background_image_url_https': None, 'profile_background_tile': False, 'profile_image_url': 'http://pbs.twimg.com/profile_images/1103864727455723520/fTDwlCZI_normal.jpg', 'profile_image_url_https': 'https://pbs.twimg.com/profile_images/1103864727455723520/fTDwlCZI_normal.jpg', 'profile_banner_url': 'https://pbs.twimg.com/profile_banners/956205424973201409/1516812808', 'profile_link_color': '1DA1F2', 'profile_sidebar_border_color': 'C0DEED', 'profile_sidebar_fill_color': 'DDEEF6', 'profile_text_color': '333333', 'profile_use_background_image': True, 'has_extended_profile': True, 'default_profile': True, 'default_profile_image': False, 'following': False, 'follow_request_sent': False, 'notifications': False, 'translator_type': 'none'}, id=956205424973201409, id_str='956205424973201409', name='Daniela Menjivar', screen_name='DanielaMenjiv18', location='', description='Si no sabe no opine 👈', url=None, entities={'description': {'urls': []}}, protected=False, followers_count=508, friends_count=576, listed_count=1, created_at=datetime.datetime(2018, 1, 24, 16, 41, 53), favourites_count=14366, utc_offset=None, time_zone=None, geo_enabled=False, verified=False, statuses_count=9380, lang=None, contributors_enabled=False, is_translator=False, is_translation_enabled=False, profile_background_color='F5F8FA', profile_background_image_url=None, profile_background_image_url_https=None, profile_background_tile=False, profile_image_url='http://pbs.twimg.com/profile_images/1103864727455723520/fTDwlCZI_normal.jpg', profile_image_url_https='https://pbs.twimg.com/profile_images/1103864727455723520/fTDwlCZI_normal.jpg', profile_banner_url='https://pbs.twimg.com/profile_banners/956205424973201409/1516812808', profile_link_color='1DA1F2', profile_sidebar_border_color='C0DEED', profile_sidebar_fill_color='DDEEF6', profile_text_color='333333', profile_use_background_image=True, has_extended_profile=True, default_profile=True, default_profile_image=False, following=False, follow_request_sent=False, notifications=False, translator_type='none'), user=User(_api=<tweepy.api.API object at 0x0000019F8B431BE0>, _json={'id': 956205424973201409, 'id_str': '956205424973201409', 'name': 'Daniela Menjivar', 'screen_name': 'DanielaMenjiv18', 'location': '', 'description': 'Si no sabe no opine 👈', 'url': None, 'entities': {'description': {'urls': []}}, 'protected': False, 'followers_count': 508, 'friends_count': 576, 'listed_count': 1, 'created_at': 'Wed Jan 24 16:41:53 +0000 2018', 'favourites_count': 14366, 'utc_offset': None, 'time_zone': None, 'geo_enabled': False, 'verified': False, 'statuses_count': 9380, 'lang': None, 'contributors_enabled': False, 'is_translator': False, 'is_translation_enabled': False, 'profile_background_color': 'F5F8FA', 'profile_background_image_url': None, 'profile_background_image_url_https': None, 'profile_background_tile': False, 'profile_image_url': 'http://pbs.twimg.com/profile_images/1103864727455723520/fTDwlCZI_normal.jpg', 'profile_image_url_https': 'https://pbs.twimg.com/profile_images/1103864727455723520/fTDwlCZI_normal.jpg', 'profile_banner_url': 'https://pbs.twimg.com/profile_banners/956205424973201409/1516812808', 'profile_link_color': '1DA1F2', 'profile_sidebar_border_color': 'C0DEED', 'profile_sidebar_fill_color': 'DDEEF6', 'profile_text_color': '333333', 'profile_use_background_image': True, 'has_extended_profile': True, 'default_profile': True, 'default_profile_image': False, 'following': False, 'follow_request_sent': False, 'notifications': False, 'translator_type': 'none'}, id=956205424973201409, id_str='956205424973201409', name='Daniela Menjivar', screen_name='DanielaMenjiv18', location='', description='Si no sabe no opine 👈', url=None, entities={'description': {'urls': []}}, protected=False, followers_count=508, friends_count=576, listed_count=1, created_at=datetime.datetime(2018, 1, 24, 16, 41, 53), favourites_count=14366, utc_offset=None, time_zone=None, geo_enabled=False, verified=False, statuses_count=9380, lang=None, contributors_enabled=False, is_translator=False, is_translation_enabled=False, profile_background_color='F5F8FA', profile_background_image_url=None, profile_background_image_url_https=None, profile_background_tile=False, profile_image_url='http://pbs.twimg.com/profile_images/1103864727455723520/fTDwlCZI_normal.jpg', profile_image_url_https='https://pbs.twimg.com/profile_images/1103864727455723520/fTDwlCZI_normal.jpg', profile_banner_url='https://pbs.twimg.com/profile_banners/956205424973201409/1516812808', profile_link_color='1DA1F2', profile_sidebar_border_color='C0DEED', profile_sidebar_fill_color='DDEEF6', profile_text_color='333333', profile_use_background_image=True, has_extended_profile=True, default_profile=True, default_profile_image=False, following=False, follow_request_sent=False, notifications=False, translator_type='none'), geo=None, coordinates=None, place=None, contributors=None, is_quote_status=False, retweet_count=209, favorite_count=479, favorited=False, retweeted=False, lang='es'), is_quote_status=False, retweet_count=209, favorite_count=0, favorited=False, retweeted=False, lang='es')\n"
     ]
    }
   ],
   "source": [
    "#retweets new tweets according to hashtags and english language according to hashtags\n",
    "\n",
    "\n",
    "search = ['#MTG','#MTGArena','MagicTheGathering','#MTG #Commander','EDH']\n",
    "\n",
    "number_of_tweets = 1 #can be adjsuted for content\n",
    "\n",
    "for i in range(len(search)):\n",
    "    for tweet in tweepy.Cursor(api.search, search[i]).items(number_of_tweets):  \n",
    "        if detect(tweet.text) == 'en':\n",
    "            try:       \n",
    "                tweet.retweet()       \n",
    "                print('Retweeted the tweet')\n",
    "            except Exception as e:\n",
    "                print(e)\n",
    "                pass\n",
    "\n"
   ]
  },
  {
   "cell_type": "code",
   "execution_count": 72,
   "metadata": {},
   "outputs": [
    {
     "name": "stdout",
     "output_type": "stream",
     "text": [
      "Liked the tweet\n",
      "Liked the tweet\n",
      "Liked the tweet\n",
      "Liked the tweet\n"
     ]
    }
   ],
   "source": [
    "#retweets new tweets according to hashtags and english language according to hashtags\n",
    "\n",
    "\n",
    "search = ['#MTG','#MTGArena','MagicTheGathering','#MTG #Commander','EDH']\n",
    "\n",
    "number_of_tweets = 2 #can be adjsuted for content\n",
    "\n",
    "for i in range(len(search)):\n",
    "    for tweet in tweepy.Cursor(api.search, search[i]).items(number_of_tweets):  \n",
    "        try:       \n",
    "            tweet.favorite()       \n",
    "            print('Liked the tweet')\n",
    "        except:\n",
    "            pass\n",
    "\n"
   ]
  },
  {
   "cell_type": "code",
   "execution_count": 66,
   "metadata": {},
   "outputs": [
    {
     "name": "stdout",
     "output_type": "stream",
     "text": [
      "You know what feels disgusting… using Teferi, TR to rerun your UHulk. \n",
      "\n",
      "#MTG #Pioneer\n"
     ]
    }
   ],
   "source": []
  }
 ],
 "metadata": {
  "kernelspec": {
   "display_name": "Python 3",
   "language": "python",
   "name": "python3"
  },
  "language_info": {
   "codemirror_mode": {
    "name": "ipython",
    "version": 3
   },
   "file_extension": ".py",
   "mimetype": "text/x-python",
   "name": "python",
   "nbconvert_exporter": "python",
   "pygments_lexer": "ipython3",
   "version": "3.7.0"
  }
 },
 "nbformat": 4,
 "nbformat_minor": 2
}
